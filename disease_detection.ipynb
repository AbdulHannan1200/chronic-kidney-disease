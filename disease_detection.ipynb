{
 "cells": [
  {
   "cell_type": "code",
   "execution_count": 102,
   "metadata": {},
   "outputs": [],
   "source": [
    "import pandas as pd\n",
    "import numpy as np\n",
    "import matplotlib.pyplot as plt"
   ]
  },
  {
   "cell_type": "code",
   "execution_count": 103,
   "metadata": {},
   "outputs": [
    {
     "name": "stdout",
     "output_type": "stream",
     "text": [
      "   Headach  fever  vomit_and_nuasea  cough_chest_pain  chills  \\\n",
      "0        0      1                 0                 1       1   \n",
      "1        1      1                 0                 1       1   \n",
      "2        1      1                 0                 1       1   \n",
      "3        0      0                 1                 1       1   \n",
      "4        1      1                 1                 1       1   \n",
      "\n",
      "   bone_joint_pain  rash  muscles_aches  swollen_abdomen classification  \\\n",
      "0                0     0              0                0        malaria   \n",
      "1                0     0              0                0        malaria   \n",
      "2                0     0              0                0        malaria   \n",
      "3                0     0              0                0        malaria   \n",
      "4                0     0              0                0        malaria   \n",
      "\n",
      "   Unnamed: 10  Unnamed: 11  Unnamed: 12      \n",
      "0          NaN          NaN          NaN NaN  \n",
      "1          NaN          NaN          NaN NaN  \n",
      "2          NaN          NaN          NaN NaN  \n",
      "3          NaN          NaN          NaN NaN  \n",
      "4          NaN          NaN          NaN NaN  \n",
      "Index(['Headach', 'fever', 'vomit_and_nuasea', 'cough_chest_pain', 'chills',\n",
      "       'bone_joint_pain', 'rash', 'muscles_aches', 'swollen_abdomen',\n",
      "       'classification', 'Unnamed: 10', 'Unnamed: 11', 'Unnamed: 12', ' '],\n",
      "      dtype='object')\n"
     ]
    }
   ],
   "source": [
    "df=pd.read_csv('generated_data.csv')\n",
    "print(df.head())\n",
    "print(df.columns)"
   ]
  },
  {
   "cell_type": "code",
   "execution_count": null,
   "metadata": {},
   "outputs": [],
   "source": []
  },
  {
   "cell_type": "code",
   "execution_count": 104,
   "metadata": {},
   "outputs": [
    {
     "name": "stdout",
     "output_type": "stream",
     "text": [
      "   Headach  fever  vomit_and_nuasea  cough_chest_pain  chills  \\\n",
      "0        0      1                 0                 1       1   \n",
      "1        1      1                 0                 1       1   \n",
      "2        1      1                 0                 1       1   \n",
      "3        0      0                 1                 1       1   \n",
      "4        1      1                 1                 1       1   \n",
      "\n",
      "   bone_joint_pain  rash  muscles_aches  swollen_abdomen classification  \n",
      "0                0     0              0                0        malaria  \n",
      "1                0     0              0                0        malaria  \n",
      "2                0     0              0                0        malaria  \n",
      "3                0     0              0                0        malaria  \n",
      "4                0     0              0                0        malaria  \n"
     ]
    }
   ],
   "source": [
    "df=df[['Headach', 'fever', 'vomit_and_nuasea', 'cough_chest_pain', 'chills',\n",
    "       'bone_joint_pain', 'rash', 'muscles_aches', 'swollen_abdomen',\n",
    "       'classification']]\n",
    "print(df.head())"
   ]
  },
  {
   "cell_type": "code",
   "execution_count": 105,
   "metadata": {},
   "outputs": [
    {
     "name": "stdout",
     "output_type": "stream",
     "text": [
      "<class 'pandas.core.frame.DataFrame'>\n",
      "RangeIndex: 212 entries, 0 to 211\n",
      "Data columns (total 10 columns):\n",
      "Headach             212 non-null int64\n",
      "fever               212 non-null int64\n",
      "vomit_and_nuasea    212 non-null int64\n",
      "cough_chest_pain    212 non-null int64\n",
      "chills              212 non-null int64\n",
      "bone_joint_pain     212 non-null int64\n",
      "rash                212 non-null int64\n",
      "muscles_aches       212 non-null int64\n",
      "swollen_abdomen     212 non-null int64\n",
      "classification      212 non-null object\n",
      "dtypes: int64(9), object(1)\n",
      "memory usage: 16.6+ KB\n"
     ]
    }
   ],
   "source": [
    "df.info()"
   ]
  },
  {
   "cell_type": "code",
   "execution_count": null,
   "metadata": {},
   "outputs": [],
   "source": []
  },
  {
   "cell_type": "code",
   "execution_count": 106,
   "metadata": {},
   "outputs": [],
   "source": [
    "from sklearn.model_selection import train_test_split\n",
    "from sklearn.linear_model import LogisticRegression"
   ]
  },
  {
   "cell_type": "code",
   "execution_count": 107,
   "metadata": {},
   "outputs": [],
   "source": [
    "X=df[['Headach', 'fever', 'vomit_and_nuasea', 'cough_chest_pain', 'chills',\n",
    "       'bone_joint_pain', 'rash', 'muscles_aches', 'swollen_abdomen']]\n",
    "y=df['classification']\n",
    "X_train, X_test, y_train, y_test = train_test_split(X, y, test_size=0.3, random_state=42)\n"
   ]
  },
  {
   "cell_type": "code",
   "execution_count": 108,
   "metadata": {},
   "outputs": [
    {
     "name": "stderr",
     "output_type": "stream",
     "text": [
      "C:\\Users\\Abdul Hannan\\Anaconda3\\lib\\site-packages\\sklearn\\linear_model\\logistic.py:460: FutureWarning: Default multi_class will be changed to 'auto' in 0.22. Specify the multi_class option to silence this warning.\n",
      "  \"this warning.\", FutureWarning)\n"
     ]
    }
   ],
   "source": [
    "lm=LogisticRegression(solver='lbfgs')\n",
    "model=lm.fit(X_train,y_train)"
   ]
  },
  {
   "cell_type": "code",
   "execution_count": 109,
   "metadata": {},
   "outputs": [],
   "source": [
    "predict=lm.predict(X_test)"
   ]
  },
  {
   "cell_type": "code",
   "execution_count": 110,
   "metadata": {
    "scrolled": false
   },
   "outputs": [
    {
     "name": "stdout",
     "output_type": "stream",
     "text": [
      "[[20  0  0  0]\n",
      " [ 0 13  0  0]\n",
      " [ 0  5  9  2]\n",
      " [ 0  0  0 15]]\n",
      "0.890625\n",
      "\n",
      "\n",
      "              precision    recall  f1-score   support\n",
      "\n",
      "      dangue       1.00      1.00      1.00        20\n",
      "     malaria       0.72      1.00      0.84        13\n",
      "        none       1.00      0.56      0.72        16\n",
      "     typhoid       0.88      1.00      0.94        15\n",
      "\n",
      "   micro avg       0.89      0.89      0.89        64\n",
      "   macro avg       0.90      0.89      0.87        64\n",
      "weighted avg       0.92      0.89      0.88        64\n",
      "\n"
     ]
    }
   ],
   "source": [
    "from sklearn.metrics import confusion_matrix \n",
    "from sklearn.metrics import accuracy_score \n",
    "from sklearn.metrics import classification_report\n",
    "\n",
    "results = confusion_matrix(y_test, predict)\n",
    "accuracy=accuracy_score(y_test, predict)\n",
    "report=classification_report(y_test, predict) \n",
    "print(results)\n",
    "print(accuracy)\n",
    "print('\\n')\n",
    "print(report)"
   ]
  },
  {
   "cell_type": "code",
   "execution_count": 111,
   "metadata": {},
   "outputs": [
    {
     "data": {
      "image/png": "[encoded data removed]",
      "text/plain": [
       "<Figure size 432x288 with 2 Axes>"
      ]
     },
     "metadata": {
      "needs_background": "light"
     },
     "output_type": "display_data"
    }
   ],
   "source": [
    "import seaborn as sn\n",
    "\n",
    "sn.heatmap(results, annot=True, annot_kws={\"size\": 16}) # font size\n",
    "\n",
    "plt.show()"
   ]
  },
  {
   "cell_type": "code",
   "execution_count": 112,
   "metadata": {},
   "outputs": [
    {
     "name": "stdout",
     "output_type": "stream",
     "text": [
      "[0.93023256 0.93023256 0.95348837 0.9047619  0.95121951]\n",
      "0.9339869810658239\n"
     ]
    },
    {
     "name": "stderr",
     "output_type": "stream",
     "text": [
      "C:\\Users\\Abdul Hannan\\Anaconda3\\lib\\site-packages\\sklearn\\linear_model\\logistic.py:460: FutureWarning: Default multi_class will be changed to 'auto' in 0.22. Specify the multi_class option to silence this warning.\n",
      "  \"this warning.\", FutureWarning)\n",
      "C:\\Users\\Abdul Hannan\\Anaconda3\\lib\\site-packages\\sklearn\\linear_model\\logistic.py:460: FutureWarning: Default multi_class will be changed to 'auto' in 0.22. Specify the multi_class option to silence this warning.\n",
      "  \"this warning.\", FutureWarning)\n",
      "C:\\Users\\Abdul Hannan\\Anaconda3\\lib\\site-packages\\sklearn\\linear_model\\logistic.py:460: FutureWarning: Default multi_class will be changed to 'auto' in 0.22. Specify the multi_class option to silence this warning.\n",
      "  \"this warning.\", FutureWarning)\n",
      "C:\\Users\\Abdul Hannan\\Anaconda3\\lib\\site-packages\\sklearn\\linear_model\\logistic.py:460: FutureWarning: Default multi_class will be changed to 'auto' in 0.22. Specify the multi_class option to silence this warning.\n",
      "  \"this warning.\", FutureWarning)\n",
      "C:\\Users\\Abdul Hannan\\Anaconda3\\lib\\site-packages\\sklearn\\linear_model\\logistic.py:460: FutureWarning: Default multi_class will be changed to 'auto' in 0.22. Specify the multi_class option to silence this warning.\n",
      "  \"this warning.\", FutureWarning)\n"
     ]
    }
   ],
   "source": [
    "from sklearn.model_selection import cross_val_score\n",
    "scores = cross_val_score(lm,X,y, cv=5)\n",
    "print(scores)\n",
    "print(scores.mean())"
   ]
  },
  {
   "cell_type": "code",
   "execution_count": 113,
   "metadata": {},
   "outputs": [
    {
     "name": "stdout",
     "output_type": "stream",
     "text": [
      "['dangue']\n"
     ]
    }
   ],
   "source": [
    "print(lm.predict([[1,1,1,0,0,1,1,0,0]]))"
   ]
  },
  {
   "cell_type": "code",
   "execution_count": 114,
   "metadata": {},
   "outputs": [],
   "source": [
    "from sklearn import tree\n",
    "clf = tree.DecisionTreeClassifier()\n",
    "clf = clf.fit(X_train, y_train)\n",
    "pred_DT = clf.predict(X_test)"
   ]
  },
  {
   "cell_type": "code",
   "execution_count": 115,
   "metadata": {},
   "outputs": [
    {
     "name": "stdout",
     "output_type": "stream",
     "text": [
      "[[20  0  0  0]\n",
      " [ 0 13  0  0]\n",
      " [ 0  0 16  0]\n",
      " [ 0  0  0 15]]\n",
      "Decision Tree Accuracy:  1.0\n",
      "\n",
      "\n",
      "              precision    recall  f1-score   support\n",
      "\n",
      "      dangue       1.00      1.00      1.00        20\n",
      "     malaria       1.00      1.00      1.00        13\n",
      "        none       1.00      1.00      1.00        16\n",
      "     typhoid       1.00      1.00      1.00        15\n",
      "\n",
      "   micro avg       1.00      1.00      1.00        64\n",
      "   macro avg       1.00      1.00      1.00        64\n",
      "weighted avg       1.00      1.00      1.00        64\n",
      "\n"
     ]
    }
   ],
   "source": [
    "results3 = confusion_matrix(y_test, pred_DT)\n",
    "accuracy3=accuracy_score(y_test, pred_DT)\n",
    "report3=classification_report(y_test, pred_DT) \n",
    "print(results3)\n",
    "print('Decision Tree Accuracy: ',accuracy3)\n",
    "print('\\n')\n",
    "print(report3)"
   ]
  },
  {
   "cell_type": "code",
   "execution_count": null,
   "metadata": {},
   "outputs": [],
   "source": []
  },
  {
   "cell_type": "code",
   "execution_count": null,
   "metadata": {},
   "outputs": [],
   "source": []
  },
  {
   "cell_type": "code",
   "execution_count": 116,
   "metadata": {},
   "outputs": [
    {
     "name": "stdout",
     "output_type": "stream",
     "text": [
      "['dangue']\n"
     ]
    }
   ],
   "source": [
    "from sklearn.ensemble import RandomForestClassifier\n",
    "\n",
    "clf = RandomForestClassifier(n_estimators=3)\n",
    "clf = clf.fit(X, y)\n",
    "print(clf.predict([[1,1,0,0,0,0,0,0,0]]))"
   ]
  },
  {
   "cell_type": "code",
   "execution_count": 117,
   "metadata": {},
   "outputs": [],
   "source": [
    "pred_RandomFor=clf.predict(X_test)"
   ]
  },
  {
   "cell_type": "code",
   "execution_count": 118,
   "metadata": {},
   "outputs": [
    {
     "name": "stdout",
     "output_type": "stream",
     "text": [
      "[[20  0  0  0]\n",
      " [ 0 13  0  0]\n",
      " [ 0  0 16  0]\n",
      " [ 0  0  0 15]]\n",
      "Random Forest Accuracy:  1.0\n",
      "\n",
      "\n",
      "              precision    recall  f1-score   support\n",
      "\n",
      "      dangue       1.00      1.00      1.00        20\n",
      "     malaria       1.00      1.00      1.00        13\n",
      "        none       1.00      1.00      1.00        16\n",
      "     typhoid       1.00      1.00      1.00        15\n",
      "\n",
      "   micro avg       1.00      1.00      1.00        64\n",
      "   macro avg       1.00      1.00      1.00        64\n",
      "weighted avg       1.00      1.00      1.00        64\n",
      "\n"
     ]
    }
   ],
   "source": [
    "\n",
    "results2 = confusion_matrix(y_test, pred_RandomFor)\n",
    "accuracy2=accuracy_score(y_test, pred_RandomFor)\n",
    "report2=classification_report(y_test, pred_RandomFor) \n",
    "print(results2)\n",
    "print('Random Forest Accuracy: ',accuracy2)\n",
    "print('\\n')\n",
    "print(report2)"
   ]
  },
  {
   "cell_type": "code",
   "execution_count": 119,
   "metadata": {},
   "outputs": [
    {
     "data": {
      "image/png": "[encoded data removed]",
      "text/plain": [
       "<Figure size 432x288 with 2 Axes>"
      ]
     },
     "metadata": {
      "needs_background": "light"
     },
     "output_type": "display_data"
    }
   ],
   "source": [
    "sn.heatmap(results2, annot=True, annot_kws={\"size\": 16}) # font size\n",
    "\n",
    "plt.show()"
   ]
  },
  {
   "cell_type": "code",
   "execution_count": null,
   "metadata": {},
   "outputs": [],
   "source": []
  },
  {
   "cell_type": "code",
   "execution_count": null,
   "metadata": {},
   "outputs": [],
   "source": []
  },
  {
   "cell_type": "code",
   "execution_count": null,
   "metadata": {},
   "outputs": [],
   "source": []
  }
 ],
 "metadata": {
  "kernelspec": {
   "display_name": "Python 3",
   "language": "python",
   "name": "python3"
  },
  "language_info": {
   "codemirror_mode": {
    "name": "ipython",
    "version": 3
   },
   "file_extension": ".py",
   "mimetype": "text/x-python",
   "name": "python",
   "nbconvert_exporter": "python",
   "pygments_lexer": "ipython3",
   "version": "3.7.3"
  }
 },
 "nbformat": 4,
 "nbformat_minor": 2
}
